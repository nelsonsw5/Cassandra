{
 "cells": [
  {
   "cell_type": "markdown",
   "metadata": {},
   "source": [
    "### Python Cassandra connection example\n",
    "\n",
    "To run this section, you will need to have Cassandra up and running. Then using cqlsh,\n",
    "<pre>CREATE KEYSPACE users_keyspace WITH replication = {'class': 'SimpleStrategy', 'replication_factor': '1'} AND durable_writes = true;</pre>\n",
    "\n",
    "Then create a table\n",
    "<pre>\n",
    "CREATE TABLE users_keyspace.users (\n",
    "    firstname text,\n",
    "    lastname text,\n",
    "    email text,\n",
    "    \"favorite color\" text,\n",
    "    PRIMARY KEY (firstname, lastname)\n",
    ") WITH CLUSTERING ORDER BY (lastname ASC);</pre>\n",
    "\n",
    "Now you can insert some data\n",
    "<pre>\n",
    "INSERT INTO users_keyspace.users (\n",
    "  firstname,\n",
    "  lastname,\n",
    "  email,\n",
    "  \"favorite color\"\n",
    ") VALUES (\n",
    "  'Arthur',\n",
    "  'Pendragon',\n",
    "  'king.arthur@gmail.com',\n",
    "  'red'\n",
    ");\n",
    "\n",
    "INSERT INTO users_keyspace.users (\n",
    "  firstname,\n",
    "  lastname,\n",
    "  email,\n",
    "  \"favorite color\"\n",
    ") VALUES (\n",
    "  'Sir',\n",
    "  'Galahad',\n",
    "  'sir.galahad@gmail.com',\n",
    "  'blue'\n",
    ");\n",
    "</pre>"
   ]
  },
  {
   "cell_type": "code",
   "execution_count": 7,
   "metadata": {},
   "outputs": [],
   "source": [
    "from cassandra.cluster import Cluster"
   ]
  },
  {
   "cell_type": "code",
   "execution_count": 15,
   "metadata": {},
   "outputs": [],
   "source": [
    "cluster = Cluster(['127.0.0.1'], port=2042)\n",
    "\n",
    "session = cluster.connect()"
   ]
  },
  {
   "cell_type": "code",
   "execution_count": 22,
   "metadata": {},
   "outputs": [],
   "source": [
    "session.set_keyspace('users_keyspace')"
   ]
  },
  {
   "cell_type": "code",
   "execution_count": 23,
   "metadata": {},
   "outputs": [
    {
     "ename": "AttributeError",
     "evalue": "'str' object has no attribute 'firstname'",
     "output_type": "error",
     "traceback": [
      "\u001b[0;31m---------------------------------------------------------------------------\u001b[0m",
      "\u001b[0;31mAttributeError\u001b[0m                            Traceback (most recent call last)",
      "\u001b[1;32m/Users/stephennelson/Projects/Cassandra/hellocassandra.ipynb Cell 5'\u001b[0m in \u001b[0;36m<module>\u001b[0;34m\u001b[0m\n\u001b[1;32m      <a href='vscode-notebook-cell:/Users/stephennelson/Projects/Cassandra/hellocassandra.ipynb#ch0000004?line=0'>1</a>\u001b[0m rows \u001b[39m=\u001b[39m session\u001b[39m.\u001b[39mexecute(\u001b[39m'\u001b[39m\u001b[39mSELECT firstname, lastname, email FROM users\u001b[39m\u001b[39m'\u001b[39m)\n\u001b[1;32m      <a href='vscode-notebook-cell:/Users/stephennelson/Projects/Cassandra/hellocassandra.ipynb#ch0000004?line=1'>2</a>\u001b[0m \u001b[39mfor\u001b[39;00m user_row \u001b[39min\u001b[39;00m rows:\n\u001b[0;32m----> <a href='vscode-notebook-cell:/Users/stephennelson/Projects/Cassandra/hellocassandra.ipynb#ch0000004?line=2'>3</a>\u001b[0m     \u001b[39mprint\u001b[39m(user_row\u001b[39m.\u001b[39;49mfirstname, user_row\u001b[39m.\u001b[39mlastname, user_row\u001b[39m.\u001b[39memail)\n",
      "\u001b[0;31mAttributeError\u001b[0m: 'str' object has no attribute 'firstname'"
     ]
    }
   ],
   "source": [
    "rows = session.execute('SELECT firstname, lastname, email FROM users')\n",
    "for user_row in rows:\n",
    "    print(user_row.firstname, user_row.lastname, user_row.email)"
   ]
  },
  {
   "cell_type": "markdown",
   "metadata": {},
   "source": [
    "To do the next part, you will need to download the movies database from\n",
    "https://grouplens.org/datasets/movielens/\n",
    "Just download ml-latest-small.zip. It is in the \"recommended for education and development\" section\n",
    "\n",
    "Then use cqlsh to load in the data.\n",
    "First create a demo keyspace\n",
    "<pre>create KEYSPACE demo WITH replication = {'class': 'SimpleStrategy', 'replication_factor': 1};</pre>\n",
    "\n",
    "Then create the movies table\n",
    "<pre>create table demo.movies (movieId int primary key, title text, genres text);</pre>\n",
    "\n",
    "Then load the data\n",
    "<pre>COPY demo.movies from '/data/ml-latest-small/movies.csv' WITH HEADER = true;</pre>\n",
    "\n",
    "This is assuming you have /data mounted as a VOLUME in your docker image to a local directory where you have unzipped the movie lens dataset"
   ]
  },
  {
   "cell_type": "code",
   "execution_count": 27,
   "metadata": {},
   "outputs": [],
   "source": [
    "import pandas as pd \n",
    "\n",
    "def pandas_factory(colnames, rows):\n",
    "    return pd.DataFrame(rows, columns=colnames)"
   ]
  },
  {
   "cell_type": "code",
   "execution_count": 25,
   "metadata": {},
   "outputs": [],
   "source": [
    "session.row_factory = pandas_factory\n",
    "session.default_fetch_size = None"
   ]
  },
  {
   "cell_type": "code",
   "execution_count": 30,
   "metadata": {},
   "outputs": [
    {
     "ename": "InvalidRequest",
     "evalue": "Error from server: code=2200 [Invalid query] message=\"table salaires does not exist\"",
     "output_type": "error",
     "traceback": [
      "\u001b[0;31m---------------------------------------------------------------------------\u001b[0m",
      "\u001b[0;31mInvalidRequest\u001b[0m                            Traceback (most recent call last)",
      "\u001b[1;32m/Users/stephennelson/Projects/Cassandra/hellocassandra.ipynb Cell 9'\u001b[0m in \u001b[0;36m<module>\u001b[0;34m\u001b[0m\n\u001b[1;32m      <a href='vscode-notebook-cell:/Users/stephennelson/Projects/Cassandra/hellocassandra.ipynb#ch0000008?line=0'>1</a>\u001b[0m query \u001b[39m=\u001b[39m \u001b[39m\"\u001b[39m\u001b[39mSELECT * from baseball.salaires limit 10\u001b[39m\u001b[39m\"\u001b[39m\n\u001b[1;32m      <a href='vscode-notebook-cell:/Users/stephennelson/Projects/Cassandra/hellocassandra.ipynb#ch0000008?line=1'>2</a>\u001b[0m \u001b[39m# query\u001b[39;00m\n\u001b[0;32m----> <a href='vscode-notebook-cell:/Users/stephennelson/Projects/Cassandra/hellocassandra.ipynb#ch0000008?line=2'>3</a>\u001b[0m rslt \u001b[39m=\u001b[39m session\u001b[39m.\u001b[39;49mexecute(query, timeout\u001b[39m=\u001b[39;49m\u001b[39mNone\u001b[39;49;00m)\n\u001b[1;32m      <a href='vscode-notebook-cell:/Users/stephennelson/Projects/Cassandra/hellocassandra.ipynb#ch0000008?line=3'>4</a>\u001b[0m df \u001b[39m=\u001b[39m rslt\u001b[39m.\u001b[39m_current_rows\n\u001b[1;32m      <a href='vscode-notebook-cell:/Users/stephennelson/Projects/Cassandra/hellocassandra.ipynb#ch0000008?line=4'>5</a>\u001b[0m df\n",
      "File \u001b[0;32m/opt/anaconda3/envs/cass/lib/python3.10/site-packages/cassandra/cluster.py:2618\u001b[0m, in \u001b[0;36mcassandra.cluster.Session.execute\u001b[0;34m()\u001b[0m\n",
      "File \u001b[0;32m/opt/anaconda3/envs/cass/lib/python3.10/site-packages/cassandra/cluster.py:4894\u001b[0m, in \u001b[0;36mcassandra.cluster.ResponseFuture.result\u001b[0;34m()\u001b[0m\n",
      "\u001b[0;31mInvalidRequest\u001b[0m: Error from server: code=2200 [Invalid query] message=\"table salaires does not exist\""
     ]
    }
   ],
   "source": [
    "query = \"SELECT * from demo.movies limit 10\"\n",
    "# query\n",
    "rslt = session.execute(query, timeout=None)\n",
    "df = rslt._current_rows\n",
    "df"
   ]
  },
  {
   "cell_type": "markdown",
   "metadata": {},
   "source": [
    "<pre>create KEYSPACE baseball WITH replication = {'class': 'SimpleStrategy', 'replication_factor': 1};</pre>\n",
    "\n",
    "<pre>create table baseball.salaries (playerID int primary key, year int, team text, name text, salary int);</pre>\n",
    "\n",
    "<pre>COPY baseball.salaries from '/data/mlbSalaries.csv' WITH HEADER = true;</pre>\n",
    "\n",
    "This is assuming you have /data mounted as a VOLUME in your docker image to a local directory where you have unzipped the movie lens dataset"
   ]
  },
  {
   "cell_type": "code",
   "execution_count": 41,
   "metadata": {},
   "outputs": [
    {
     "data": {
      "text/html": [
       "<div>\n",
       "<style scoped>\n",
       "    .dataframe tbody tr th:only-of-type {\n",
       "        vertical-align: middle;\n",
       "    }\n",
       "\n",
       "    .dataframe tbody tr th {\n",
       "        vertical-align: top;\n",
       "    }\n",
       "\n",
       "    .dataframe thead tr th {\n",
       "        text-align: left;\n",
       "    }\n",
       "</style>\n",
       "<table border=\"1\" class=\"dataframe\">\n",
       "  <thead>\n",
       "    <tr>\n",
       "      <th></th>\n",
       "      <th>team</th>\n",
       "      <th>salary</th>\n",
       "    </tr>\n",
       "    <tr>\n",
       "      <th></th>\n",
       "      <th></th>\n",
       "      <th>mean</th>\n",
       "    </tr>\n",
       "  </thead>\n",
       "  <tbody>\n",
       "    <tr>\n",
       "      <th>0</th>\n",
       "      <td>arizona-diamondbacks</td>\n",
       "      <td>3.682283e+05</td>\n",
       "    </tr>\n",
       "    <tr>\n",
       "      <th>1</th>\n",
       "      <td>chicago-cubs</td>\n",
       "      <td>7.405000e+06</td>\n",
       "    </tr>\n",
       "    <tr>\n",
       "      <th>2</th>\n",
       "      <td>cleveland-indians</td>\n",
       "      <td>3.097670e+05</td>\n",
       "    </tr>\n",
       "    <tr>\n",
       "      <th>3</th>\n",
       "      <td>kansas-city-royals</td>\n",
       "      <td>5.937000e+05</td>\n",
       "    </tr>\n",
       "    <tr>\n",
       "      <th>4</th>\n",
       "      <td>minnesota-twins</td>\n",
       "      <td>4.629629e+06</td>\n",
       "    </tr>\n",
       "    <tr>\n",
       "      <th>5</th>\n",
       "      <td>oakland-athletics</td>\n",
       "      <td>2.550000e+06</td>\n",
       "    </tr>\n",
       "    <tr>\n",
       "      <th>6</th>\n",
       "      <td>toronto-blue-jays</td>\n",
       "      <td>6.000000e+05</td>\n",
       "    </tr>\n",
       "    <tr>\n",
       "      <th>7</th>\n",
       "      <td>washington-nationals</td>\n",
       "      <td>3.000000e+06</td>\n",
       "    </tr>\n",
       "  </tbody>\n",
       "</table>\n",
       "</div>"
      ],
      "text/plain": [
       "                   team        salary\n",
       "                                 mean\n",
       "0  arizona-diamondbacks  3.682283e+05\n",
       "1          chicago-cubs  7.405000e+06\n",
       "2     cleveland-indians  3.097670e+05\n",
       "3    kansas-city-royals  5.937000e+05\n",
       "4       minnesota-twins  4.629629e+06\n",
       "5     oakland-athletics  2.550000e+06\n",
       "6     toronto-blue-jays  6.000000e+05\n",
       "7  washington-nationals  3.000000e+06"
      ]
     },
     "execution_count": 41,
     "metadata": {},
     "output_type": "execute_result"
    }
   ],
   "source": [
    "query = \"SELECT * from baseball.salaries limit 10\"\n",
    "# query\n",
    "rslt = session.execute(query, timeout=None)\n",
    "df = rslt._current_rows\n",
    "df.groupby(['team']).agg({'salary': ['mean']}).reset_index()"
   ]
  },
  {
   "cell_type": "code",
   "execution_count": 53,
   "metadata": {},
   "outputs": [
    {
     "data": {
      "text/html": [
       "<div>\n",
       "<style scoped>\n",
       "    .dataframe tbody tr th:only-of-type {\n",
       "        vertical-align: middle;\n",
       "    }\n",
       "\n",
       "    .dataframe tbody tr th {\n",
       "        vertical-align: top;\n",
       "    }\n",
       "\n",
       "    .dataframe thead th {\n",
       "        text-align: right;\n",
       "    }\n",
       "</style>\n",
       "<table border=\"1\" class=\"dataframe\">\n",
       "  <thead>\n",
       "    <tr style=\"text-align: right;\">\n",
       "      <th></th>\n",
       "      <th>playerid</th>\n",
       "      <th>salary</th>\n",
       "      <th>team</th>\n",
       "    </tr>\n",
       "  </thead>\n",
       "  <tbody>\n",
       "    <tr>\n",
       "      <th>0</th>\n",
       "      <td>2342</td>\n",
       "      <td>8000000</td>\n",
       "      <td>san-francisco-giants</td>\n",
       "    </tr>\n",
       "  </tbody>\n",
       "</table>\n",
       "</div>"
      ],
      "text/plain": [
       "   playerid   salary                  team\n",
       "0      2342  8000000  san-francisco-giants"
      ]
     },
     "execution_count": 53,
     "metadata": {},
     "output_type": "execute_result"
    }
   ],
   "source": [
    "query = \"SELECT * from baseball.salaries where playerID=2342\"\n",
    "# query\n",
    "rslt = session.execute(query, timeout=None)\n",
    "df = rslt._current_rows\n",
    "df"
   ]
  },
  {
   "cell_type": "markdown",
   "metadata": {},
   "source": []
  }
 ],
 "metadata": {
  "interpreter": {
   "hash": "6e18570bb8eb8df3934ec48b0650a744820d063b492e4a99aa5fcbd28bc83f64"
  },
  "kernelspec": {
   "display_name": "Python 3.9.1 64-bit ('mypython': venv)",
   "language": "python",
   "name": "python3"
  },
  "language_info": {
   "codemirror_mode": {
    "name": "ipython",
    "version": 3
   },
   "file_extension": ".py",
   "mimetype": "text/x-python",
   "name": "python",
   "nbconvert_exporter": "python",
   "pygments_lexer": "ipython3",
   "version": "3.10.0"
  },
  "orig_nbformat": 4
 },
 "nbformat": 4,
 "nbformat_minor": 2
}
